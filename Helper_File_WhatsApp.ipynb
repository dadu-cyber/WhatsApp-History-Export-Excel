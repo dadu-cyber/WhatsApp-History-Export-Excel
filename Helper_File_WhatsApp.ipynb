{
 "cells": [
  {
   "cell_type": "markdown",
   "metadata": {},
   "source": [
    "# 📲 Backup WhatsApp Chat to Excel "
   ]
  },
  {
   "cell_type": "markdown",
   "metadata": {
    "heading_collapsed": true
   },
   "source": [
    "#### Imports"
   ]
  },
  {
   "cell_type": "code",
   "execution_count": null,
   "metadata": {
    "hidden": true
   },
   "outputs": [],
   "source": [
    "# Standard Python Libaries\n",
    "import urllib.request\n",
    "import os\n",
    "\n",
    "# Third Party Modules\n",
    "import pandas as pd # pip install pandas openpyxl\n",
    "from pushbullet import Pushbullet # pip install pushbullet.py"
   ]
  },
  {
   "cell_type": "markdown",
   "metadata": {
    "heading_collapsed": true
   },
   "source": [
    "#### Get Download Link from Pushbullet"
   ]
  },
  {
   "cell_type": "code",
   "execution_count": null,
   "metadata": {
    "hidden": true
   },
   "outputs": [],
   "source": [
    "# API KEY PushBullet (https://www.pushbullet.com/)\n",
    "API_KEY = \"o.eCrY2iEHnTSqdbqsaOO9gG4UIRLK47cX\""
   ]
  },
  {
   "cell_type": "code",
   "execution_count": null,
   "metadata": {
    "hidden": true
   },
   "outputs": [],
   "source": [
    "# https://pypi.org/project/pushbullet.py/0.9.1/\n",
    "pb = Pushbullet(API_KEY)\n",
    "\n",
    "# List of pushed file\n",
    "pushes = pb.get_pushes()\n",
    "\n",
    "# Get latest file [First Element in List]\n",
    "latest = pushes[0]\n",
    "\n",
    "# Get Link to Chatfile\n",
    "url = latest['file_url']\n",
    "url"
   ]
  },
  {
   "cell_type": "markdown",
   "metadata": {
    "heading_collapsed": true
   },
   "source": [
    "#### Download Chatfile from Pushbullet(link)"
   ]
  },
  {
   "cell_type": "code",
   "execution_count": null,
   "metadata": {
    "hidden": true
   },
   "outputs": [],
   "source": [
    "# Download Chatfile\n",
    "url = latest['file_url']\n",
    "file_path = \"chat.txt\"\n",
    "\n",
    "urllib.request.urlretrieve(url, file_path)"
   ]
  },
  {
   "cell_type": "markdown",
   "metadata": {
    "heading_collapsed": true
   },
   "source": [
    "#### Read Data"
   ]
  },
  {
   "cell_type": "code",
   "execution_count": null,
   "metadata": {
    "hidden": true
   },
   "outputs": [],
   "source": [
    "# Read file by line by line\n",
    "with open(file_path, mode='r', encoding=\"utf8\") as f:\n",
    "    data = f.readlines()"
   ]
  },
  {
   "cell_type": "code",
   "execution_count": null,
   "metadata": {
    "hidden": true
   },
   "outputs": [],
   "source": [
    "# Print Data\n",
    "data"
   ]
  },
  {
   "cell_type": "code",
   "execution_count": null,
   "metadata": {
    "hidden": true
   },
   "outputs": [],
   "source": [
    "# Data in list format\n",
    "data[2]"
   ]
  },
  {
   "cell_type": "markdown",
   "metadata": {},
   "source": [
    "#### Clean Up data"
   ]
  },
  {
   "cell_type": "code",
   "execution_count": null,
   "metadata": {},
   "outputs": [],
   "source": [
    "# FOUND ON GITHUB: https://gist.github.com/kwcooper/a21ba58272d3cdf26310cc02ee4b168f\n",
    "# parse text, create list of lists structure & remove first whatsapp info message\n",
    "dataset = data[1:]\n",
    "cleaned_data = []\n",
    "for line in dataset:\n",
    "    # Check, whether it is a new line or not\n",
    "    # If the following characters are in the line -> assumption it is NOT a new line\n",
    "    if '/' in line and ':' in line and ',' in line and '-' in line:\n",
    "        # grab the info and cut it out\n",
    "        date = line.split(\",\")[0]\n",
    "        line2 = line[len(date):]\n",
    "        time = line2.split(\"-\")[0][2:]\n",
    "        line3 = line2[len(time):]\n",
    "        name = line3.split(\":\")[0][4:]\n",
    "        line4 = line3[len(name):]\n",
    "        message = line4[6:-1] # strip newline charactor\n",
    "        cleaned_data.append([date, time, name, message])\n",
    "    \n",
    "    # else, assumption -> new line. Append new line to previous 'message'\n",
    "    else:\n",
    "        new = cleaned_data[-1][-1] + \" \" + line\n",
    "        cleaned_data[-1][-1] = new    "
   ]
  },
  {
   "cell_type": "markdown",
   "metadata": {
    "heading_collapsed": true
   },
   "source": [
    "#### 🚩 Create Dataframe & Export it to Excel "
   ]
  },
  {
   "cell_type": "code",
   "execution_count": null,
   "metadata": {
    "hidden": true
   },
   "outputs": [],
   "source": [
    "# Create the DataFrame\n",
    "df = pd.DataFrame(cleaned_data, columns = ['Date', 'Time', 'Name', 'Message'])"
   ]
  },
  {
   "cell_type": "code",
   "execution_count": null,
   "metadata": {
    "hidden": true
   },
   "outputs": [],
   "source": [
    "# Save it to excel\n",
    "df.to_excel('chat_history.xlsx', index=False)"
   ]
  }
 ],
 "metadata": {
  "kernelspec": {
   "display_name": "Python 3",
   "language": "python",
   "name": "python3"
  },
  "language_info": {
   "codemirror_mode": {
    "name": "ipython",
    "version": 3
   },
   "file_extension": ".py",
   "mimetype": "text/x-python",
   "name": "python",
   "nbconvert_exporter": "python",
   "pygments_lexer": "ipython3",
   "version": "3.8.5"
  }
 },
 "nbformat": 4,
 "nbformat_minor": 4
}
